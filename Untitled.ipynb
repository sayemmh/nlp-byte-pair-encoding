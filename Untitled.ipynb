{
 "cells": [
  {
   "cell_type": "markdown",
   "metadata": {},
   "source": [
    "## Regular Expressions, Text Normalization, Edit Distance\n",
    "\n",
    "**text normalization** - converting text to a more convenient, standard form\n",
    "\n",
    "**lemmatization** - the task of determining that two words have the same root, despite their surface differences\n",
    "- sang, sung, and sings are forms of the verb sing\n",
    "- lemmatizer (a function) maps these words to their lemma, sing\n",
    "\n",
    "**sentence segmentation** - breaking up a text into individual sentences, using cues like periods or exclamation points\n",
    "\n",
    "**edit distance** - metric that measures how similar two strings are based on the number of edits (insertions, deletions, substitutions) it takes to change one string into the other"
   ]
  },
  {
   "cell_type": "markdown",
   "metadata": {},
   "source": [
    "**regex examples**\n",
    "\n",
    " Regex         | Matches           \n",
    " ------------- |------------------------\n",
    "   | \n",
    "          |\n",
    "          | \n",
    "       |\n",
    "        | \n",
    " beg.n         |begin, beg’n, begun\n",
    " [ab]*         | aaaa, ababab, bbbb\n",
    " ˆThe box\\.$   | The box.\n",
    " /\\bthe\\b/     | the (but not other)\n",
    " \n",
    "disjunction\n",
    "- `[wW]oodchuck` : Woodchuck or woodchuck\n",
    "- `[abc]`  : ‘a’, ‘b’, or ‘c’\n",
    "\n",
    "range and `^` as *not*\n",
    "- `[0-9]`  : a single digit 0-9\n",
    "- `[ ˆA-Z]` : not an upper case letter\n",
    "\n",
    "?\n",
    "- `colou?r` : color or colour\n",
    "- "
   ]
  },
  {
   "cell_type": "code",
   "execution_count": null,
   "metadata": {},
   "outputs": [],
   "source": []
  }
 ],
 "metadata": {
  "kernelspec": {
   "display_name": "Python 3",
   "language": "python",
   "name": "python3"
  },
  "language_info": {
   "codemirror_mode": {
    "name": "ipython",
    "version": 3
   },
   "file_extension": ".py",
   "mimetype": "text/x-python",
   "name": "python",
   "nbconvert_exporter": "python",
   "pygments_lexer": "ipython3",
   "version": "3.7.3"
  }
 },
 "nbformat": 4,
 "nbformat_minor": 2
}
